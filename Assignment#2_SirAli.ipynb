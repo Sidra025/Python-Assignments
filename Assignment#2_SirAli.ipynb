{
 "cells": [
  {
   "cell_type": "markdown",
   "metadata": {},
   "source": [
    "# Assignment # 2"
   ]
  },
  {
   "cell_type": "markdown",
   "metadata": {},
   "source": [
    "## 1. Write a program which takes 5 inputs from user for different subject’s marks, total it and generate mark sheet using grades ?"
   ]
  },
  {
   "cell_type": "code",
   "execution_count": 3,
   "metadata": {},
   "outputs": [
    {
     "name": "stdout",
     "output_type": "stream",
     "text": [
      "Enter marks of the first subject: 67\n",
      "Enter marks of the second subject: 87\n",
      "Enter marks of the third subject: 91\n",
      "Enter marks of the fourth subject: 69\n",
      "Enter marks of the fifth subject: 89\n",
      "Grade: B\n"
     ]
    }
   ],
   "source": [
    "sub_1 = int(input(\"Enter marks of the first subject: \"))\n",
    "sub_2 = int(input(\"Enter marks of the second subject: \"))\n",
    "sub_3 = int(input(\"Enter marks of the third subject: \"))\n",
    "sub_4 = int(input(\"Enter marks of the fourth subject: \"))\n",
    "sub_5 = int(input(\"Enter marks of the fifth subject: \"))\n",
    "total = sub_1 + sub_2 + sub_3 + sub_4 + sub_4\n",
    "avg = total/5\n",
    "if(avg >= 90):\n",
    "    print(\"Grade: A\")\n",
    "elif(avg >= 80 or avg < 90):\n",
    "    print(\"Grade: B\")\n",
    "elif(avg >= 70 or avg < 80):\n",
    "    print(\"Grade: C\")\n",
    "elif(avg >=60 or avg < 70):\n",
    "    print(\"Grade: D\")\n",
    "else:\n",
    "    print(\"Grade: F\")"
   ]
  },
  {
   "cell_type": "markdown",
   "metadata": {},
   "source": [
    "## 2. Write a program which take input from user and identify that the given number is even or odd?"
   ]
  },
  {
   "cell_type": "code",
   "execution_count": 3,
   "metadata": {},
   "outputs": [
    {
     "name": "stdout",
     "output_type": "stream",
     "text": [
      "Enter any number: 9\n",
      "Number is Odd: 9\n"
     ]
    }
   ],
   "source": [
    "num = int(input(\"Enter any number: \"))\n",
    "if num%2 == 0:\n",
    "    print(\"Number is Even :\",num)\n",
    "else:\n",
    "    print(\"Number is Odd:\" ,num)"
   ]
  },
  {
   "cell_type": "markdown",
   "metadata": {},
   "source": [
    "##  3. Write a program which print the length of the list?"
   ]
  },
  {
   "cell_type": "code",
   "execution_count": 4,
   "metadata": {},
   "outputs": [
    {
     "name": "stdout",
     "output_type": "stream",
     "text": [
      "The length of list is:  3\n"
     ]
    }
   ],
   "source": [
    "n = len([10, 20, 30]) \n",
    "print(\"The length of list is: \", n) "
   ]
  },
  {
   "cell_type": "code",
   "execution_count": 9,
   "metadata": {},
   "outputs": [
    {
     "name": "stdout",
     "output_type": "stream",
     "text": [
      "Length is : 2\n"
     ]
    }
   ],
   "source": [
    "a = []\n",
    "a.append(\"Sidra\")\n",
    "a.append(\"Irfan\")\n",
    "print(\"Length is :\", len(a))"
   ]
  },
  {
   "cell_type": "markdown",
   "metadata": {},
   "source": [
    "## 4. Write a Python program to sum all the numeric items in a list?"
   ]
  },
  {
   "cell_type": "code",
   "execution_count": 11,
   "metadata": {},
   "outputs": [
    {
     "name": "stdout",
     "output_type": "stream",
     "text": [
      "How many numbers: 2\n",
      "Enter number 1\n",
      "Enter number 2\n",
      "Sum of elements in given list is : 3\n"
     ]
    }
   ],
   "source": [
    "list = []\n",
    "num = int(input('How many numbers: '))\n",
    "for n in range(num):\n",
    "    numbers = int(input('Enter number '))\n",
    "    list.append(numbers)\n",
    "print(\"Sum of elements in given list is :\", sum(list))"
   ]
  },
  {
   "cell_type": "markdown",
   "metadata": {},
   "source": [
    "## 5. Write a Python program to get the largest number from a numeric list."
   ]
  },
  {
   "cell_type": "code",
   "execution_count": 12,
   "metadata": {},
   "outputs": [
    {
     "name": "stdout",
     "output_type": "stream",
     "text": [
      "Largest number is: 99\n"
     ]
    }
   ],
   "source": [
    "list1 = [40, 30, 4, 45, 99] \n",
    "print(\"Largest number is:\", max(list1)) "
   ]
  },
  {
   "cell_type": "markdown",
   "metadata": {},
   "source": [
    "## 6.Take a list, say for example this one:\n",
    "a = [1, 1, 2, 3, 5, 8, 13, 21, 34, 55, 89]\n",
    "and write a program that prints out all the elements of the list that are less than 5."
   ]
  },
  {
   "cell_type": "code",
   "execution_count": 17,
   "metadata": {},
   "outputs": [
    {
     "name": "stdout",
     "output_type": "stream",
     "text": [
      "[1, 1, 2, 3]\n"
     ]
    }
   ],
   "source": [
    "a = [1, 1, 2, 3, 5, 8, 13, 21, 34, 55, 89]\n",
    "list3 = []\n",
    "\n",
    "for num in a:\n",
    "    if num < 5:\n",
    "        list3.append(num)\n",
    "print(list3)"
   ]
  },
  {
   "cell_type": "code",
   "execution_count": null,
   "metadata": {},
   "outputs": [],
   "source": []
  }
 ],
 "metadata": {
  "kernelspec": {
   "display_name": "Python 3",
   "language": "python",
   "name": "python3"
  },
  "language_info": {
   "codemirror_mode": {
    "name": "ipython",
    "version": 3
   },
   "file_extension": ".py",
   "mimetype": "text/x-python",
   "name": "python",
   "nbconvert_exporter": "python",
   "pygments_lexer": "ipython3",
   "version": "3.7.3"
  }
 },
 "nbformat": 4,
 "nbformat_minor": 2
}

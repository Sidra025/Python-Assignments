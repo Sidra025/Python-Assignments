{
 "cells": [
  {
   "cell_type": "markdown",
   "metadata": {},
   "source": [
    "# Assignment # 6"
   ]
  },
  {
   "cell_type": "markdown",
   "metadata": {},
   "source": [
    "# Question 1: \n",
    "## Define Object Oriented Programming Language? \n",
    "\n",
    "Object-oriented programming (OOP) refers to a type of computer programming (software design) in which programmers define the data type of a data structure, and also the types of operations (functions) that can be applied to the data structure. In this way, the data structure becomes an object that includes both data and functions. In addition, programmers can create relationships between one object and another. For example, objects can inherit characteristics from other objects.\n",
    "\n",
    "It is the most effective approach to writing software. In this we can write class that represent real world things and situations and we create objects based on these classes.\n"
   ]
  },
  {
   "cell_type": "markdown",
   "metadata": {},
   "source": [
    "# Question 2: \n",
    "## List down the Benefits of OOP? \n",
    "-\tObject-oriented programming fosters reusability. A computer program is written in the form of objects and classes, which can be reused in other projects as well.\n",
    "-\tThe modular approach used in object-oriented programming results in highly maintainable code.\n",
    "-\tIn object-oriented programming, every class has a specific task. If an error occurs in one part of the code, you can rectify it locally without having to affect other parts of the code.\n",
    "-\tData encapsulation  adds an extra layer of security to the program developed using the object-oriented approach.\n",
    "-\tEffective problem solving\n"
   ]
  },
  {
   "cell_type": "markdown",
   "metadata": {},
   "source": [
    "# Question 3: \n",
    "## Differentiate between function and method? \n",
    "\n",
    "A function is a piece of code that is called by name. It can be passed data to operate on (i.e. the parameters) and can optionally return data (the return value). All data that is passed to a function is explicitly passed.\n",
    "A method is a piece of code that is called by a name that is associated with an object. In most respects it is identical to a function except for two key differences:\n",
    "1.\tA method is implicitly passed the object on which it was called.\n",
    "2.\tA method is able to operate on data that is contained within the class (remembering that an object is an instance of a class - the class is the definition, the object is an instance of that data).\n",
    "\n"
   ]
  },
  {
   "cell_type": "markdown",
   "metadata": {},
   "source": [
    "# Question 4: \n",
    "## Define the following terms: \n",
    "\n",
    "1.\tClass \n",
    "\n",
    "    A class is a code template for creating objects. Objects have member variables and have behaviour associated with them. In python a class is created by the keyword class . An object is created using the constructor of the class. This object will then be called the instance of the class.\n",
    "    A class is a user defined blueprint or prototype from which objects are created. It represents the set of properties or methods that are common to all objects of one type.\n",
    "\n",
    "\n",
    "2.\tObject \n",
    "   \n",
    "   Objects have member variables and have behaviour associated with them. An object is created using the constructor of the class. This object will then be called the instance of the class.\n",
    "\n",
    "\n",
    "3.\tAttribute \n",
    "\n",
    "    A class by itself is of no use unless there is some functionality associated with it. Functionalities are defined by setting attributes, which act as containers for data and functions related to those attributes. Those functions are called methods.\n",
    "\n",
    "    - Instance attributes are attributes or properties attached to an instance of a class. Instance attributes are defined in the constructor.\n",
    "    - Attribute whose value is the same for all instances of a class is called a class attribute. The value of class attribute is shared by all objects. Class attributes are defined at class level rather than inside the constructor method __init__(). Unlike instance attributes, class attributes are accessed using the name of the class.\n"
   ]
  },
  {
   "cell_type": "code",
   "execution_count": 1,
   "metadata": {},
   "outputs": [],
   "source": [
    "class person:\n",
    "    def __init__(self): # constructor\n",
    "        self.name=\"Unknown\" # instance attribute\n",
    "        self.age=0 # instance attribute\n",
    "class person:\n",
    "    greet='Hello!' # greet is class attribute\n",
    "\n"
   ]
  },
  {
   "cell_type": "markdown",
   "metadata": {},
   "source": [
    "4.\tBehavior \n",
    "\n",
    "    The class defines attributes and the behaviour of the object, while the object, on the other hand, represents the class.\n"
   ]
  },
  {
   "cell_type": "markdown",
   "metadata": {},
   "source": [
    "# Question 5: \n",
    "## Write a code in python in which create a class named it Car which have 5 attributes such like (model, color and name etc.) and 3 methods. And create 5 object instance from that class.\n"
   ]
  },
  {
   "cell_type": "code",
   "execution_count": 2,
   "metadata": {},
   "outputs": [
    {
     "name": "stdout",
     "output_type": "stream",
     "text": [
      "Honda\n",
      "japan\n",
      "a2\n",
      "black\n",
      "2019\n",
      "\n",
      "Toyota\n",
      "japan\n",
      "a3\n",
      "white\n",
      "2018\n",
      "\n",
      "Swift\n",
      "japan\n",
      "a4\n",
      "white\n",
      "2018\n",
      "\n",
      "HondaBRV\n",
      "japan\n",
      "a2\n",
      "white\n",
      "2018\n",
      "\n",
      "Toyota\n",
      "japan\n",
      "a2\n",
      "white\n",
      "2018\n",
      "\n",
      "\n",
      "Engine started\n",
      "\n",
      "Engine switched off\n",
      "\n",
      "This is a Swift white\n"
     ]
    },
    {
     "data": {
      "text/plain": [
       "<function print>"
      ]
     },
     "execution_count": 2,
     "metadata": {},
     "output_type": "execute_result"
    }
   ],
   "source": [
    "class Car():\n",
    "    def __init__(self,name,make,model,color,year):\n",
    "    # create 5 class attributes\n",
    "        self.name = name\n",
    "        self.make = make\n",
    "        self.model = model\n",
    "        self.color = color\n",
    "        self.year = year\n",
    "\n",
    "    # create class methods\n",
    "    def start(self):\n",
    "        print (\"Engine started\")\n",
    "\n",
    "    def stop(self):\n",
    "        print (\"Engine switched off\")\n",
    "    \n",
    "    def display(self):\n",
    "        print ('This is a', self.name, self.color)\n",
    "\n",
    "\n",
    "c1 = Car('Honda', 'japan','a2', 'black', 2019)\n",
    "\n",
    "print(c1.name)\n",
    "print(c1.make)\n",
    "print(c1.model)\n",
    "print(c1.color)\n",
    "print(c1.year)\n",
    "print()\n",
    "\n",
    "c2 = Car('Toyota', 'japan','a3', 'white', 2018)\n",
    "\n",
    "print(c2.name)\n",
    "print(c2.make)\n",
    "print(c2.model)\n",
    "print(c2.color)\n",
    "print(c2.year)\n",
    "print()\n",
    "\n",
    "c3 = Car('Swift', 'japan','a4', 'white', 2018)\n",
    "\n",
    "print(c3.name)\n",
    "print(c3.make)\n",
    "print(c3.model)\n",
    "print(c3.color)\n",
    "print(c3.year)\n",
    "print()\n",
    "\n",
    "c4 = Car('HondaBRV', 'japan','a2', 'white', 2018)\n",
    "\n",
    "print(c4.name)\n",
    "print(c4.make)\n",
    "print(c4.model)\n",
    "print(c4.color)\n",
    "print(c4.year)\n",
    "print()\n",
    "\n",
    "c5 = Car('Toyota', 'japan','a2', 'white', 2018)\n",
    "\n",
    "print(c5.name)\n",
    "print(c5.make)\n",
    "print(c5.model)\n",
    "print(c5.color)\n",
    "print(c5.year)\n",
    "print()\n",
    "print()\n",
    "\n",
    "\n",
    "c3.start()\n",
    "print\n",
    "print()\n",
    " \n",
    "c3.stop()\n",
    "print\n",
    "print()\n",
    "\n",
    "c3.display()\n",
    "print\n"
   ]
  },
  {
   "cell_type": "code",
   "execution_count": null,
   "metadata": {},
   "outputs": [],
   "source": []
  }
 ],
 "metadata": {
  "kernelspec": {
   "display_name": "Python 3",
   "language": "python",
   "name": "python3"
  },
  "language_info": {
   "codemirror_mode": {
    "name": "ipython",
    "version": 3
   },
   "file_extension": ".py",
   "mimetype": "text/x-python",
   "name": "python",
   "nbconvert_exporter": "python",
   "pygments_lexer": "ipython3",
   "version": "3.7.3"
  }
 },
 "nbformat": 4,
 "nbformat_minor": 2
}

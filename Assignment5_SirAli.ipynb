{
 "cells": [
  {
   "cell_type": "markdown",
   "metadata": {},
   "source": [
    "# Question:1\n",
    "## Write a Python function to calculate the factorial of a number (a non-negative integer). The function accepts the number as an argument."
   ]
  },
  {
   "cell_type": "code",
   "execution_count": 3,
   "metadata": {},
   "outputs": [
    {
     "name": "stdout",
     "output_type": "stream",
     "text": [
      "Enter a number to compute the factiorial : 4\n",
      "24\n"
     ]
    }
   ],
   "source": [
    "def factorial(num):\n",
    "    if num == 0:\n",
    "        return 1\n",
    "    else:\n",
    "        return num * factorial(num-1)\n",
    "num = int(input(\"Enter a number to compute the factiorial : \"))\n",
    "print(factorial(num))"
   ]
  },
  {
   "cell_type": "markdown",
   "metadata": {},
   "source": [
    "# Question:2 \n",
    "## Write a Python function that accepts a string and calculate the number of upper case letters and lower case letters."
   ]
  },
  {
   "cell_type": "code",
   "execution_count": 5,
   "metadata": {},
   "outputs": [
    {
     "name": "stdout",
     "output_type": "stream",
     "text": [
      "String :  Smarter Way To Learn Python\n",
      "No. of Upper case characters in string :  5\n",
      "No. of Lower case Characters in string :  18\n"
     ]
    }
   ],
   "source": [
    "def string(st):\n",
    "    d = {\"UPPER_CASE\":0, \"LOWER_CASE\":0}\n",
    "    for cal in st:\n",
    "        if cal.isupper():\n",
    "            d[\"UPPER_CASE\"] += 1\n",
    "        elif cal.islower():\n",
    "            d[\"LOWER_CASE\"] += 1\n",
    "        else:\n",
    "            pass\n",
    "    print (\"String : \", st)\n",
    "    print (\"No. of Upper case characters in string : \", d[\"UPPER_CASE\"])\n",
    "    print (\"No. of Lower case Characters in string : \", d[\"LOWER_CASE\"])\n",
    "\n",
    "string('Smarter Way To Learn Python')\n"
   ]
  },
  {
   "cell_type": "markdown",
   "metadata": {},
   "source": [
    "# Question:3 \n",
    "## Write a Python function to print the even numbers from a given list."
   ]
  },
  {
   "cell_type": "code",
   "execution_count": 10,
   "metadata": {},
   "outputs": [
    {
     "name": "stdout",
     "output_type": "stream",
     "text": [
      "Even Numbers\n",
      "20 42 76 "
     ]
    }
   ],
   "source": [
    "list = [11, 20, 42, 45, 76, 39] \n",
    "print(\"Even Numbers\")  \n",
    "for enum in list: \n",
    "    if enum % 2 == 0: \n",
    "        print(enum, end = \" \") "
   ]
  },
  {
   "cell_type": "markdown",
   "metadata": {},
   "source": [
    "# Question:4 \n",
    "## Write a Python function that checks whether a passed string is palindrome or not. Note: A palindrome is a word, phrase, or sequence that reads the same backward as forward, e.g., madam"
   ]
  },
  {
   "cell_type": "code",
   "execution_count": 17,
   "metadata": {},
   "outputs": [
    {
     "name": "stdout",
     "output_type": "stream",
     "text": [
      "True\n",
      "False\n"
     ]
    }
   ],
   "source": [
    "def isPalindrome(string):\n",
    "    leftpos = 0\n",
    "    rightpos = len(string) - 1\n",
    "\n",
    "    while rightpos >= leftpos:\n",
    "        if not string[leftpos] == string[rightpos]:\n",
    "            return False\n",
    "        leftpos += 1\n",
    "        rightpos -= 1\n",
    "    return True\n",
    "print(isPalindrome('madam')) \n",
    "print(isPalindrome('hello'))  "
   ]
  },
  {
   "cell_type": "markdown",
   "metadata": {},
   "source": [
    "# Question:5 \n",
    "## Write a Python function that takes a number as a parameter and check the number is prime or not."
   ]
  },
  {
   "cell_type": "code",
   "execution_count": 21,
   "metadata": {},
   "outputs": [
    {
     "name": "stdout",
     "output_type": "stream",
     "text": [
      "False\n",
      "True\n",
      "True\n"
     ]
    }
   ],
   "source": [
    "def isprime(num):\n",
    "    if (num == 1):\n",
    "        return False\n",
    "    elif (num == 2):\n",
    "        return True;\n",
    "    else:\n",
    "        for x in range(2,num):\n",
    "            if(num % x==0):\n",
    "                return False\n",
    "        return True             \n",
    "print(isprime(9))\n",
    "print(isprime(3))\n",
    "print(isprime(2))"
   ]
  },
  {
   "cell_type": "markdown",
   "metadata": {},
   "source": [
    "# Question: 6 \n",
    "## Suppose a customer is shopping in a market and you need to print all the items which user bought from market. Write a function which accepts the multiple arguments of user shopping list and print all the items which user bought from market. "
   ]
  },
  {
   "cell_type": "code",
   "execution_count": 53,
   "metadata": {},
   "outputs": [
    {
     "name": "stdout",
     "output_type": "stream",
     "text": [
      "Please enter grocery item, press ENTER twice to end:oats\n",
      "Please enter grocery item, press ENTER twice to end:salt\n",
      "Please enter grocery item, press ENTER twice to end:sugar\n",
      "Please enter grocery item, press ENTER twice to end:wheat\n",
      "Please enter grocery item, press ENTER twice to end:flour\n",
      "['oats', 'salt', 'sugar', 'wheat', 'flour']\n"
     ]
    }
   ],
   "source": [
    "# Methid 1 without using function\n",
    "\n",
    "groceries = []\n",
    "\n",
    "for userlist in range(5):  #asks for five grocery items to store in userlist\n",
    "        food = input('Please enter grocery item, press ENTER twice to end:')  #takes user input and stores it in food\n",
    "        groceries.append(food)  #appends food input to groceries\n",
    "\n",
    "if food == \"\":\n",
    "        print(\"Here is your grocery list:\")\n",
    "        for grocery_list in groceries:\n",
    "            groceries.sort()\n",
    "            \n",
    "print(groceries)"
   ]
  },
  {
   "cell_type": "code",
   "execution_count": 2,
   "metadata": {},
   "outputs": [
    {
     "name": "stdout",
     "output_type": "stream",
     "text": [
      "Enter grocery item and price\n",
      "item 1oats\n",
      "price300\n",
      "item 2wheat\n",
      "price500\n",
      "item 3milk\n",
      "price250\n",
      "{'oats': 300, 'wheat': 500, 'milk': 250}\n"
     ]
    }
   ],
   "source": [
    "#method 2: using function \n",
    "\n",
    "def question(times=None):\n",
    "    \n",
    "    grocery_di = {}\n",
    "    print ('Enter grocery item and price')\n",
    "    for i in range(times):\n",
    "        key = input('item %d' % int(i+1))\n",
    "        value = int(input('price'))\n",
    "        grocery_di[key] = value\n",
    "    print (grocery_di)  #Or use return to get result out of function\n",
    "question(3)"
   ]
  },
  {
   "cell_type": "code",
   "execution_count": null,
   "metadata": {},
   "outputs": [],
   "source": []
  }
 ],
 "metadata": {
  "kernelspec": {
   "display_name": "Python 3",
   "language": "python",
   "name": "python3"
  }
 },
 "nbformat": 4,
 "nbformat_minor": 2
}

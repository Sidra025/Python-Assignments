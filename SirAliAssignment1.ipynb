{
 "cells": [
  {
   "cell_type": "markdown",
   "metadata": {},
   "source": [
    "# 1. Write a Python program to print the following string in a specific format (see the output).\n",
    "Twinkle, twinkle, little star, How I wonder what you are! Up above the world so high, Like a diamond in the sky. Twinkle, twinkle, little star, How I wonder what you are 2."
   ]
  },
  {
   "cell_type": "code",
   "execution_count": 3,
   "metadata": {},
   "outputs": [
    {
     "name": "stdout",
     "output_type": "stream",
     "text": [
      "       Twinkle, twinkle, little star\n",
      "             How I wonder what you are! \n",
      "               Up above the world so high,\n",
      "               Like a diamond in the sky.\n",
      "     Twinkle, twinkle, little star,\n",
      "            How I wonder what you are 2.\n"
     ]
    }
   ],
   "source": [
    "#Solution 1\n",
    "print(\"       Twinkle, twinkle, little star\")\n",
    "print(\"             How I wonder what you are! \")\n",
    "print(\"               Up above the world so high,\")\n",
    "print(\"               Like a diamond in the sky.\")\n",
    "print(\"     Twinkle, twinkle, little star,\")\n",
    "print(\"            How I wonder what you are 2.\")"
   ]
  },
  {
   "cell_type": "markdown",
   "metadata": {},
   "source": [
    "\n",
    "# 2. Write a Python program to get the Python version you are using"
   ]
  },
  {
   "cell_type": "code",
   "execution_count": 4,
   "metadata": {},
   "outputs": [
    {
     "name": "stdout",
     "output_type": "stream",
     "text": [
      "3.7.3\n"
     ]
    }
   ],
   "source": [
    "from platform import python_version\n",
    "\n",
    "print(python_version())"
   ]
  },
  {
   "cell_type": "markdown",
   "metadata": {},
   "source": [
    "# 3. Write a Python program to display the current date and time. "
   ]
  },
  {
   "cell_type": "code",
   "execution_count": 6,
   "metadata": {},
   "outputs": [
    {
     "name": "stdout",
     "output_type": "stream",
     "text": [
      "date and time = 04/11/2019 21:35:45\n"
     ]
    }
   ],
   "source": [
    "from datetime import datetime\n",
    "\n",
    "dt_string = now.strftime(\"%d/%m/%Y %H:%M:%S\")\n",
    "print(\"date and time =\", dt_string)"
   ]
  },
  {
   "cell_type": "markdown",
   "metadata": {},
   "source": [
    "# 4. Write a Python program which accepts the radius of a circle from the user and compute the area."
   ]
  },
  {
   "cell_type": "code",
   "execution_count": 9,
   "metadata": {},
   "outputs": [
    {
     "name": "stdout",
     "output_type": "stream",
     "text": [
      "Enter radius of circle : 2\n",
      "Area of circle is :  12.571428571428571\n"
     ]
    }
   ],
   "source": [
    "Radius = float(input(\"Enter radius of circle : \"))\n",
    "Area = (22/7) * (Radius **2)\n",
    "\n",
    "print(\"Area of circle is : \",Area)"
   ]
  },
  {
   "cell_type": "markdown",
   "metadata": {},
   "source": [
    "# 5. Write a Python program which accepts the user's first and last name and print them in reverse order with a space between them."
   ]
  },
  {
   "cell_type": "code",
   "execution_count": 11,
   "metadata": {},
   "outputs": [
    {
     "name": "stdout",
     "output_type": "stream",
     "text": [
      "Input your First Name : Sidra\n",
      "Input your Last Name : Irfan\n",
      "Irfan Sidra\n"
     ]
    }
   ],
   "source": [
    "fname = input(\"Input your First Name : \")\n",
    "lname = input(\"Input your Last Name : \")\n",
    "print (lname + \" \" + fname)"
   ]
  },
  {
   "cell_type": "markdown",
   "metadata": {},
   "source": [
    "# 6. Write a python program which takes two inputs from user and print them addition"
   ]
  },
  {
   "cell_type": "code",
   "execution_count": 1,
   "metadata": {},
   "outputs": [
    {
     "name": "stdout",
     "output_type": "stream",
     "text": [
      "Enter First Number :2\n",
      "Enter Second Number :3\n",
      "The sum of 2.0 and 3.0 is 5.0\n"
     ]
    }
   ],
   "source": [
    "num1 = float(input(\"Enter First Number :\"))\n",
    "num2 = float(input(\"Enter Second Number :\"))\n",
    "\n",
    "def add(num1,num2):\n",
    "    sum = num1+ num2\n",
    "    print('The sum of {0} and {1} is {2}'.format(num1, num2, sum))\n",
    "add(num1,num2)"
   ]
  },
  {
   "cell_type": "code",
   "execution_count": null,
   "metadata": {},
   "outputs": [],
   "source": []
  }
 ],
 "metadata": {
  "kernelspec": {
   "display_name": "Python 3",
   "language": "python",
   "name": "python3"
  },
  "language_info": {
   "codemirror_mode": {
    "name": "ipython",
    "version": 3
   },
   "file_extension": ".py",
   "mimetype": "text/x-python",
   "name": "python",
   "nbconvert_exporter": "python",
   "pygments_lexer": "ipython3",
   "version": "3.7.3"
  }
 },
 "nbformat": 4,
 "nbformat_minor": 2
}
